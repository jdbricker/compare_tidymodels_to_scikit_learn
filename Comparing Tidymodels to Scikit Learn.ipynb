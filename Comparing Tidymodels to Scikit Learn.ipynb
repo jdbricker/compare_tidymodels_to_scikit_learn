{
 "cells": [
  {
   "cell_type": "markdown",
   "id": "ac46ac0b",
   "metadata": {},
   "source": [
    "### Load Packages & Data"
   ]
  },
  {
   "cell_type": "code",
   "execution_count": 1,
   "id": "3eff21ce",
   "metadata": {},
   "outputs": [],
   "source": [
    "import pandas as pd\n",
    "import matplotlib.pyplot as plt\n",
    "import seaborn as sns\n",
    "import numpy as np"
   ]
  },
  {
   "cell_type": "code",
   "execution_count": 2,
   "id": "635c0a74",
   "metadata": {},
   "outputs": [
    {
     "data": {
      "text/html": [
       "<div>\n",
       "<style scoped>\n",
       "    .dataframe tbody tr th:only-of-type {\n",
       "        vertical-align: middle;\n",
       "    }\n",
       "\n",
       "    .dataframe tbody tr th {\n",
       "        vertical-align: top;\n",
       "    }\n",
       "\n",
       "    .dataframe thead th {\n",
       "        text-align: right;\n",
       "    }\n",
       "</style>\n",
       "<table border=\"1\" class=\"dataframe\">\n",
       "  <thead>\n",
       "    <tr style=\"text-align: right;\">\n",
       "      <th></th>\n",
       "      <th>Date</th>\n",
       "      <th>HomeTeam</th>\n",
       "      <th>AwayTeam</th>\n",
       "      <th>FTHG</th>\n",
       "      <th>FTAG</th>\n",
       "      <th>FTR</th>\n",
       "      <th>HTHG</th>\n",
       "      <th>HTAG</th>\n",
       "      <th>HTR</th>\n",
       "      <th>Referee</th>\n",
       "      <th>...</th>\n",
       "      <th>HST</th>\n",
       "      <th>AST</th>\n",
       "      <th>HF</th>\n",
       "      <th>AF</th>\n",
       "      <th>HC</th>\n",
       "      <th>AC</th>\n",
       "      <th>HY</th>\n",
       "      <th>AY</th>\n",
       "      <th>HR</th>\n",
       "      <th>AR</th>\n",
       "    </tr>\n",
       "  </thead>\n",
       "  <tbody>\n",
       "    <tr>\n",
       "      <th>0</th>\n",
       "      <td>13/08/2021</td>\n",
       "      <td>Brentford</td>\n",
       "      <td>Arsenal</td>\n",
       "      <td>2</td>\n",
       "      <td>0</td>\n",
       "      <td>H</td>\n",
       "      <td>1</td>\n",
       "      <td>0</td>\n",
       "      <td>H</td>\n",
       "      <td>M Oliver</td>\n",
       "      <td>...</td>\n",
       "      <td>3</td>\n",
       "      <td>4</td>\n",
       "      <td>12</td>\n",
       "      <td>8</td>\n",
       "      <td>2</td>\n",
       "      <td>5</td>\n",
       "      <td>0</td>\n",
       "      <td>0</td>\n",
       "      <td>0</td>\n",
       "      <td>0</td>\n",
       "    </tr>\n",
       "    <tr>\n",
       "      <th>1</th>\n",
       "      <td>14/08/2021</td>\n",
       "      <td>Man United</td>\n",
       "      <td>Leeds</td>\n",
       "      <td>5</td>\n",
       "      <td>1</td>\n",
       "      <td>H</td>\n",
       "      <td>1</td>\n",
       "      <td>0</td>\n",
       "      <td>H</td>\n",
       "      <td>P Tierney</td>\n",
       "      <td>...</td>\n",
       "      <td>8</td>\n",
       "      <td>3</td>\n",
       "      <td>11</td>\n",
       "      <td>9</td>\n",
       "      <td>5</td>\n",
       "      <td>4</td>\n",
       "      <td>1</td>\n",
       "      <td>2</td>\n",
       "      <td>0</td>\n",
       "      <td>0</td>\n",
       "    </tr>\n",
       "    <tr>\n",
       "      <th>2</th>\n",
       "      <td>14/08/2021</td>\n",
       "      <td>Burnley</td>\n",
       "      <td>Brighton</td>\n",
       "      <td>1</td>\n",
       "      <td>2</td>\n",
       "      <td>A</td>\n",
       "      <td>1</td>\n",
       "      <td>0</td>\n",
       "      <td>H</td>\n",
       "      <td>D Coote</td>\n",
       "      <td>...</td>\n",
       "      <td>3</td>\n",
       "      <td>8</td>\n",
       "      <td>10</td>\n",
       "      <td>7</td>\n",
       "      <td>7</td>\n",
       "      <td>6</td>\n",
       "      <td>2</td>\n",
       "      <td>1</td>\n",
       "      <td>0</td>\n",
       "      <td>0</td>\n",
       "    </tr>\n",
       "    <tr>\n",
       "      <th>3</th>\n",
       "      <td>14/08/2021</td>\n",
       "      <td>Chelsea</td>\n",
       "      <td>Crystal Palace</td>\n",
       "      <td>3</td>\n",
       "      <td>0</td>\n",
       "      <td>H</td>\n",
       "      <td>2</td>\n",
       "      <td>0</td>\n",
       "      <td>H</td>\n",
       "      <td>J Moss</td>\n",
       "      <td>...</td>\n",
       "      <td>6</td>\n",
       "      <td>1</td>\n",
       "      <td>15</td>\n",
       "      <td>11</td>\n",
       "      <td>5</td>\n",
       "      <td>2</td>\n",
       "      <td>0</td>\n",
       "      <td>0</td>\n",
       "      <td>0</td>\n",
       "      <td>0</td>\n",
       "    </tr>\n",
       "    <tr>\n",
       "      <th>4</th>\n",
       "      <td>14/08/2021</td>\n",
       "      <td>Everton</td>\n",
       "      <td>Southampton</td>\n",
       "      <td>3</td>\n",
       "      <td>1</td>\n",
       "      <td>H</td>\n",
       "      <td>0</td>\n",
       "      <td>1</td>\n",
       "      <td>A</td>\n",
       "      <td>A Madley</td>\n",
       "      <td>...</td>\n",
       "      <td>6</td>\n",
       "      <td>3</td>\n",
       "      <td>13</td>\n",
       "      <td>15</td>\n",
       "      <td>6</td>\n",
       "      <td>8</td>\n",
       "      <td>2</td>\n",
       "      <td>0</td>\n",
       "      <td>0</td>\n",
       "      <td>0</td>\n",
       "    </tr>\n",
       "  </tbody>\n",
       "</table>\n",
       "<p>5 rows × 22 columns</p>\n",
       "</div>"
      ],
      "text/plain": [
       "         Date    HomeTeam        AwayTeam  FTHG  FTAG FTR  HTHG  HTAG HTR  \\\n",
       "0  13/08/2021   Brentford         Arsenal     2     0   H     1     0   H   \n",
       "1  14/08/2021  Man United           Leeds     5     1   H     1     0   H   \n",
       "2  14/08/2021     Burnley        Brighton     1     2   A     1     0   H   \n",
       "3  14/08/2021     Chelsea  Crystal Palace     3     0   H     2     0   H   \n",
       "4  14/08/2021     Everton     Southampton     3     1   H     0     1   A   \n",
       "\n",
       "     Referee  ...  HST  AST  HF  AF  HC  AC  HY  AY  HR  AR  \n",
       "0   M Oliver  ...    3    4  12   8   2   5   0   0   0   0  \n",
       "1  P Tierney  ...    8    3  11   9   5   4   1   2   0   0  \n",
       "2    D Coote  ...    3    8  10   7   7   6   2   1   0   0  \n",
       "3     J Moss  ...    6    1  15  11   5   2   0   0   0   0  \n",
       "4   A Madley  ...    6    3  13  15   6   8   2   0   0   0  \n",
       "\n",
       "[5 rows x 22 columns]"
      ]
     },
     "execution_count": 2,
     "metadata": {},
     "output_type": "execute_result"
    }
   ],
   "source": [
    "dat = pd.read_csv('https://raw.githubusercontent.com/rfordatascience/tidytuesday/master/data/2023/2023-04-04/soccer21-22.csv')\n",
    "\n",
    "dat.head(5)"
   ]
  },
  {
   "cell_type": "markdown",
   "id": "6866c8b9",
   "metadata": {},
   "source": [
    "### EDA"
   ]
  },
  {
   "cell_type": "code",
   "execution_count": 3,
   "id": "cf863ee2",
   "metadata": {},
   "outputs": [
    {
     "data": {
      "text/plain": [
       "Date        0\n",
       "HomeTeam    0\n",
       "AwayTeam    0\n",
       "FTHG        0\n",
       "FTAG        0\n",
       "FTR         0\n",
       "HTHG        0\n",
       "HTAG        0\n",
       "HTR         0\n",
       "Referee     0\n",
       "HS          0\n",
       "AS          0\n",
       "HST         0\n",
       "AST         0\n",
       "HF          0\n",
       "AF          0\n",
       "HC          0\n",
       "AC          0\n",
       "HY          0\n",
       "AY          0\n",
       "HR          0\n",
       "AR          0\n",
       "dtype: int64"
      ]
     },
     "execution_count": 3,
     "metadata": {},
     "output_type": "execute_result"
    }
   ],
   "source": [
    "## Check Columns for NAs\n",
    "len(dat) - dat.count()"
   ]
  },
  {
   "cell_type": "code",
   "execution_count": 4,
   "id": "3f465989",
   "metadata": {},
   "outputs": [
    {
     "data": {
      "text/plain": [
       "<AxesSubplot:xlabel='FTR', ylabel='count'>"
      ]
     },
     "execution_count": 4,
     "metadata": {},
     "output_type": "execute_result"
    },
    {
     "data": {
      "image/png": "[encoded data removed]",
      "text/plain": [
       "<Figure size 640x480 with 1 Axes>"
      ]
     },
     "metadata": {},
     "output_type": "display_data"
    }
   ],
   "source": [
    "## Plot the count of Full Time Results (FTR)\n",
    "sns.countplot(x = 'FTR', data = dat)"
   ]
  },
  {
   "cell_type": "code",
   "execution_count": 5,
   "id": "fe05d982",
   "metadata": {},
   "outputs": [
    {
     "data": {
      "text/plain": [
       "H    163\n",
       "A    129\n",
       "D     88\n",
       "Name: FTR, dtype: int64"
      ]
     },
     "execution_count": 5,
     "metadata": {},
     "output_type": "execute_result"
    }
   ],
   "source": [
    "dat['FTR'].value_counts()"
   ]
  },
  {
   "cell_type": "markdown",
   "id": "0637ba4b",
   "metadata": {},
   "source": [
    "### Get Key Model Features and Create a Plot"
   ]
  },
  {
   "cell_type": "code",
   "execution_count": 6,
   "id": "d10feb7b",
   "metadata": {},
   "outputs": [
    {
     "data": {
      "text/plain": [
       "Index(['Date', 'HomeTeam', 'AwayTeam', 'FTHG', 'FTAG', 'FTR', 'HTHG', 'HTAG',\n",
       "       'HTR', 'Referee', 'HS', 'AS', 'HST', 'AST', 'HF', 'AF', 'HC', 'AC',\n",
       "       'HY', 'AY', 'HR', 'AR'],\n",
       "      dtype='object')"
      ]
     },
     "execution_count": 6,
     "metadata": {},
     "output_type": "execute_result"
    }
   ],
   "source": [
    "dat.columns"
   ]
  },
  {
   "cell_type": "code",
   "execution_count": 7,
   "id": "5f5118cb",
   "metadata": {},
   "outputs": [
    {
     "data": {
      "text/html": [
       "<div>\n",
       "<style scoped>\n",
       "    .dataframe tbody tr th:only-of-type {\n",
       "        vertical-align: middle;\n",
       "    }\n",
       "\n",
       "    .dataframe tbody tr th {\n",
       "        vertical-align: top;\n",
       "    }\n",
       "\n",
       "    .dataframe thead th {\n",
       "        text-align: right;\n",
       "    }\n",
       "</style>\n",
       "<table border=\"1\" class=\"dataframe\">\n",
       "  <thead>\n",
       "    <tr style=\"text-align: right;\">\n",
       "      <th></th>\n",
       "      <th>FTR</th>\n",
       "      <th>HTHG</th>\n",
       "      <th>HTAG</th>\n",
       "      <th>HS</th>\n",
       "      <th>AS</th>\n",
       "      <th>HST</th>\n",
       "      <th>AST</th>\n",
       "      <th>HF</th>\n",
       "      <th>AF</th>\n",
       "      <th>HC</th>\n",
       "      <th>AC</th>\n",
       "      <th>HY</th>\n",
       "      <th>AY</th>\n",
       "      <th>HR</th>\n",
       "      <th>AR</th>\n",
       "    </tr>\n",
       "  </thead>\n",
       "  <tbody>\n",
       "    <tr>\n",
       "      <th>0</th>\n",
       "      <td>H</td>\n",
       "      <td>1</td>\n",
       "      <td>0</td>\n",
       "      <td>8</td>\n",
       "      <td>22</td>\n",
       "      <td>3</td>\n",
       "      <td>4</td>\n",
       "      <td>12</td>\n",
       "      <td>8</td>\n",
       "      <td>2</td>\n",
       "      <td>5</td>\n",
       "      <td>0</td>\n",
       "      <td>0</td>\n",
       "      <td>0</td>\n",
       "      <td>0</td>\n",
       "    </tr>\n",
       "    <tr>\n",
       "      <th>1</th>\n",
       "      <td>H</td>\n",
       "      <td>1</td>\n",
       "      <td>0</td>\n",
       "      <td>16</td>\n",
       "      <td>10</td>\n",
       "      <td>8</td>\n",
       "      <td>3</td>\n",
       "      <td>11</td>\n",
       "      <td>9</td>\n",
       "      <td>5</td>\n",
       "      <td>4</td>\n",
       "      <td>1</td>\n",
       "      <td>2</td>\n",
       "      <td>0</td>\n",
       "      <td>0</td>\n",
       "    </tr>\n",
       "    <tr>\n",
       "      <th>2</th>\n",
       "      <td>A</td>\n",
       "      <td>1</td>\n",
       "      <td>0</td>\n",
       "      <td>14</td>\n",
       "      <td>14</td>\n",
       "      <td>3</td>\n",
       "      <td>8</td>\n",
       "      <td>10</td>\n",
       "      <td>7</td>\n",
       "      <td>7</td>\n",
       "      <td>6</td>\n",
       "      <td>2</td>\n",
       "      <td>1</td>\n",
       "      <td>0</td>\n",
       "      <td>0</td>\n",
       "    </tr>\n",
       "    <tr>\n",
       "      <th>3</th>\n",
       "      <td>H</td>\n",
       "      <td>2</td>\n",
       "      <td>0</td>\n",
       "      <td>13</td>\n",
       "      <td>4</td>\n",
       "      <td>6</td>\n",
       "      <td>1</td>\n",
       "      <td>15</td>\n",
       "      <td>11</td>\n",
       "      <td>5</td>\n",
       "      <td>2</td>\n",
       "      <td>0</td>\n",
       "      <td>0</td>\n",
       "      <td>0</td>\n",
       "      <td>0</td>\n",
       "    </tr>\n",
       "    <tr>\n",
       "      <th>4</th>\n",
       "      <td>H</td>\n",
       "      <td>0</td>\n",
       "      <td>1</td>\n",
       "      <td>14</td>\n",
       "      <td>6</td>\n",
       "      <td>6</td>\n",
       "      <td>3</td>\n",
       "      <td>13</td>\n",
       "      <td>15</td>\n",
       "      <td>6</td>\n",
       "      <td>8</td>\n",
       "      <td>2</td>\n",
       "      <td>0</td>\n",
       "      <td>0</td>\n",
       "      <td>0</td>\n",
       "    </tr>\n",
       "  </tbody>\n",
       "</table>\n",
       "</div>"
      ],
      "text/plain": [
       "  FTR  HTHG  HTAG  HS  AS  HST  AST  HF  AF  HC  AC  HY  AY  HR  AR\n",
       "0   H     1     0   8  22    3    4  12   8   2   5   0   0   0   0\n",
       "1   H     1     0  16  10    8    3  11   9   5   4   1   2   0   0\n",
       "2   A     1     0  14  14    3    8  10   7   7   6   2   1   0   0\n",
       "3   H     2     0  13   4    6    1  15  11   5   2   0   0   0   0\n",
       "4   H     0     1  14   6    6    3  13  15   6   8   2   0   0   0"
      ]
     },
     "execution_count": 7,
     "metadata": {},
     "output_type": "execute_result"
    }
   ],
   "source": [
    "dat_model = dat[['FTR', 'HTHG', 'HTAG', 'HS', 'AS', 'HST', 'AST', 'HF', 'AF', 'HC', 'AC',\n",
    "       'HY', 'AY', 'HR', 'AR']]\n",
    "\n",
    "dat_model.head()"
   ]
  },
  {
   "cell_type": "code",
   "execution_count": 8,
   "id": "a7b7a6e6",
   "metadata": {},
   "outputs": [
    {
     "data": {
      "text/plain": [
       "Index(['FTR', 'HTHG', 'HTAG', 'HS', 'AS', 'HST', 'AST', 'HF', 'AF', 'HC', 'AC',\n",
       "       'HY', 'AY', 'HR', 'AR'],\n",
       "      dtype='object')"
      ]
     },
     "execution_count": 8,
     "metadata": {},
     "output_type": "execute_result"
    }
   ],
   "source": [
    "dat_model.columns"
   ]
  },
  {
   "cell_type": "code",
   "execution_count": 9,
   "id": "35751308",
   "metadata": {},
   "outputs": [
    {
     "data": {
      "text/html": [
       "<div>\n",
       "<style scoped>\n",
       "    .dataframe tbody tr th:only-of-type {\n",
       "        vertical-align: middle;\n",
       "    }\n",
       "\n",
       "    .dataframe tbody tr th {\n",
       "        vertical-align: top;\n",
       "    }\n",
       "\n",
       "    .dataframe thead th {\n",
       "        text-align: right;\n",
       "    }\n",
       "</style>\n",
       "<table border=\"1\" class=\"dataframe\">\n",
       "  <thead>\n",
       "    <tr style=\"text-align: right;\">\n",
       "      <th></th>\n",
       "      <th>FTR</th>\n",
       "      <th>variable</th>\n",
       "      <th>value</th>\n",
       "    </tr>\n",
       "  </thead>\n",
       "  <tbody>\n",
       "    <tr>\n",
       "      <th>0</th>\n",
       "      <td>H</td>\n",
       "      <td>HTHG</td>\n",
       "      <td>1</td>\n",
       "    </tr>\n",
       "    <tr>\n",
       "      <th>1</th>\n",
       "      <td>H</td>\n",
       "      <td>HTHG</td>\n",
       "      <td>1</td>\n",
       "    </tr>\n",
       "    <tr>\n",
       "      <th>2</th>\n",
       "      <td>A</td>\n",
       "      <td>HTHG</td>\n",
       "      <td>1</td>\n",
       "    </tr>\n",
       "    <tr>\n",
       "      <th>3</th>\n",
       "      <td>H</td>\n",
       "      <td>HTHG</td>\n",
       "      <td>2</td>\n",
       "    </tr>\n",
       "    <tr>\n",
       "      <th>4</th>\n",
       "      <td>H</td>\n",
       "      <td>HTHG</td>\n",
       "      <td>0</td>\n",
       "    </tr>\n",
       "  </tbody>\n",
       "</table>\n",
       "</div>"
      ],
      "text/plain": [
       "  FTR variable  value\n",
       "0   H     HTHG      1\n",
       "1   H     HTHG      1\n",
       "2   A     HTHG      1\n",
       "3   H     HTHG      2\n",
       "4   H     HTHG      0"
      ]
     },
     "execution_count": 9,
     "metadata": {},
     "output_type": "execute_result"
    }
   ],
   "source": [
    "dat_model_long = pd.melt(dat_model, \n",
    "        id_vars = 'FTR',\n",
    "        value_vars = ['HTHG', 'HTAG', 'HS', 'AS', 'HST', 'AST', 'HF', 'AF', 'HC', 'AC',\n",
    "       'HY', 'AY', 'HR', 'AR'])\n",
    "\n",
    "dat_model_long.head()"
   ]
  },
  {
   "cell_type": "code",
   "execution_count": 10,
   "id": "7debbce2",
   "metadata": {},
   "outputs": [
    {
     "data": {
      "text/plain": [
       "<AxesSubplot:xlabel='FTR', ylabel='value'>"
      ]
     },
     "execution_count": 10,
     "metadata": {},
     "output_type": "execute_result"
    },
    {
     "data": {
      "image/png": "[encoded data removed]",
      "text/plain": [
       "<Figure size 640x480 with 1 Axes>"
      ]
     },
     "metadata": {},
     "output_type": "display_data"
    }
   ],
   "source": [
    "sns.boxplot(x = 'FTR',\n",
    "           y = 'value',\n",
    "           data = dat_model_long)"
   ]
  },
  {
   "cell_type": "code",
   "execution_count": 11,
   "id": "87420d2b",
   "metadata": {},
   "outputs": [
    {
     "name": "stderr",
     "output_type": "stream",
     "text": [
      "/Users/Patrick/opt/anaconda3/lib/python3.9/site-packages/seaborn/axisgrid.py:670: UserWarning: Using the boxplot function without specifying `order` is likely to produce an incorrect plot.\n",
      "  warnings.warn(warning)\n"
     ]
    },
    {
     "data": {
      "text/plain": [
       "<seaborn.axisgrid.FacetGrid at 0x7f9a6d4e7d30>"
      ]
     },
     "execution_count": 11,
     "metadata": {},
     "output_type": "execute_result"
    },
    {
     "data": {
      "image/png": "[encoded data removed]",
      "text/plain": [
       "<Figure size 1211.11x1200 with 14 Axes>"
      ]
     },
     "metadata": {},
     "output_type": "display_data"
    }
   ],
   "source": [
    "f = sns.FacetGrid(dat_model_long, col = \"variable\", col_wrap = 4, sharey = False, sharex = False)\n",
    "f.map(sns.boxplot, 'FTR', 'value')\n",
    "f.add_legend()"
   ]
  },
  {
   "cell_type": "markdown",
   "id": "8987d6dc",
   "metadata": {},
   "source": [
    "### Train/Test Split"
   ]
  },
  {
   "cell_type": "code",
   "execution_count": 12,
   "id": "057b336a",
   "metadata": {},
   "outputs": [],
   "source": [
    "from sklearn.model_selection import train_test_split"
   ]
  },
  {
   "cell_type": "code",
   "execution_count": 13,
   "id": "dcf1ed7e",
   "metadata": {},
   "outputs": [],
   "source": [
    "features = dat_model.drop('FTR', axis=1)\n",
    "outcome = dat_model['FTR']\n",
    "\n",
    "X_train, X_test, y_train, y_test = train_test_split(\n",
    "    features,\n",
    "    outcome, \n",
    "    test_size=0.25,\n",
    "    stratify=outcome\n",
    ")"
   ]
  },
  {
   "cell_type": "code",
   "execution_count": 15,
   "id": "ee15f620",
   "metadata": {},
   "outputs": [
    {
     "data": {
      "text/html": [
       "<div>\n",
       "<style scoped>\n",
       "    .dataframe tbody tr th:only-of-type {\n",
       "        vertical-align: middle;\n",
       "    }\n",
       "\n",
       "    .dataframe tbody tr th {\n",
       "        vertical-align: top;\n",
       "    }\n",
       "\n",
       "    .dataframe thead th {\n",
       "        text-align: right;\n",
       "    }\n",
       "</style>\n",
       "<table border=\"1\" class=\"dataframe\">\n",
       "  <thead>\n",
       "    <tr style=\"text-align: right;\">\n",
       "      <th></th>\n",
       "      <th>HTHG</th>\n",
       "      <th>HTAG</th>\n",
       "      <th>HS</th>\n",
       "      <th>AS</th>\n",
       "      <th>HST</th>\n",
       "      <th>AST</th>\n",
       "      <th>HF</th>\n",
       "      <th>AF</th>\n",
       "      <th>HC</th>\n",
       "      <th>AC</th>\n",
       "      <th>HY</th>\n",
       "      <th>AY</th>\n",
       "      <th>HR</th>\n",
       "      <th>AR</th>\n",
       "    </tr>\n",
       "  </thead>\n",
       "  <tbody>\n",
       "    <tr>\n",
       "      <th>93</th>\n",
       "      <td>0</td>\n",
       "      <td>1</td>\n",
       "      <td>14</td>\n",
       "      <td>8</td>\n",
       "      <td>3</td>\n",
       "      <td>3</td>\n",
       "      <td>11</td>\n",
       "      <td>11</td>\n",
       "      <td>7</td>\n",
       "      <td>1</td>\n",
       "      <td>2</td>\n",
       "      <td>3</td>\n",
       "      <td>1</td>\n",
       "      <td>0</td>\n",
       "    </tr>\n",
       "    <tr>\n",
       "      <th>114</th>\n",
       "      <td>1</td>\n",
       "      <td>1</td>\n",
       "      <td>8</td>\n",
       "      <td>17</td>\n",
       "      <td>4</td>\n",
       "      <td>5</td>\n",
       "      <td>8</td>\n",
       "      <td>9</td>\n",
       "      <td>5</td>\n",
       "      <td>7</td>\n",
       "      <td>3</td>\n",
       "      <td>2</td>\n",
       "      <td>0</td>\n",
       "      <td>0</td>\n",
       "    </tr>\n",
       "    <tr>\n",
       "      <th>42</th>\n",
       "      <td>0</td>\n",
       "      <td>1</td>\n",
       "      <td>18</td>\n",
       "      <td>13</td>\n",
       "      <td>3</td>\n",
       "      <td>3</td>\n",
       "      <td>9</td>\n",
       "      <td>8</td>\n",
       "      <td>8</td>\n",
       "      <td>3</td>\n",
       "      <td>2</td>\n",
       "      <td>1</td>\n",
       "      <td>0</td>\n",
       "      <td>0</td>\n",
       "    </tr>\n",
       "    <tr>\n",
       "      <th>321</th>\n",
       "      <td>2</td>\n",
       "      <td>1</td>\n",
       "      <td>14</td>\n",
       "      <td>14</td>\n",
       "      <td>7</td>\n",
       "      <td>5</td>\n",
       "      <td>9</td>\n",
       "      <td>12</td>\n",
       "      <td>1</td>\n",
       "      <td>7</td>\n",
       "      <td>3</td>\n",
       "      <td>4</td>\n",
       "      <td>0</td>\n",
       "      <td>0</td>\n",
       "    </tr>\n",
       "    <tr>\n",
       "      <th>110</th>\n",
       "      <td>0</td>\n",
       "      <td>2</td>\n",
       "      <td>4</td>\n",
       "      <td>16</td>\n",
       "      <td>3</td>\n",
       "      <td>7</td>\n",
       "      <td>15</td>\n",
       "      <td>8</td>\n",
       "      <td>3</td>\n",
       "      <td>5</td>\n",
       "      <td>3</td>\n",
       "      <td>1</td>\n",
       "      <td>0</td>\n",
       "      <td>0</td>\n",
       "    </tr>\n",
       "  </tbody>\n",
       "</table>\n",
       "</div>"
      ],
      "text/plain": [
       "     HTHG  HTAG  HS  AS  HST  AST  HF  AF  HC  AC  HY  AY  HR  AR\n",
       "93      0     1  14   8    3    3  11  11   7   1   2   3   1   0\n",
       "114     1     1   8  17    4    5   8   9   5   7   3   2   0   0\n",
       "42      0     1  18  13    3    3   9   8   8   3   2   1   0   0\n",
       "321     2     1  14  14    7    5   9  12   1   7   3   4   0   0\n",
       "110     0     2   4  16    3    7  15   8   3   5   3   1   0   0"
      ]
     },
     "execution_count": 15,
     "metadata": {},
     "output_type": "execute_result"
    }
   ],
   "source": [
    "X_train.head()"
   ]
  },
  {
   "cell_type": "code",
   "execution_count": 16,
   "id": "9f3ef63a",
   "metadata": {},
   "outputs": [
    {
     "data": {
      "text/plain": [
       "H    0.428070\n",
       "A    0.340351\n",
       "D    0.231579\n",
       "Name: FTR, dtype: float64"
      ]
     },
     "execution_count": 16,
     "metadata": {},
     "output_type": "execute_result"
    }
   ],
   "source": [
    "y_train.value_counts() / len(y_train)"
   ]
  },
  {
   "cell_type": "code",
   "execution_count": 17,
   "id": "964a162b",
   "metadata": {},
   "outputs": [
    {
     "data": {
      "text/plain": [
       "H    0.431579\n",
       "A    0.336842\n",
       "D    0.231579\n",
       "Name: FTR, dtype: float64"
      ]
     },
     "execution_count": 17,
     "metadata": {},
     "output_type": "execute_result"
    }
   ],
   "source": [
    "y_test.value_counts() / len(y_test)"
   ]
  },
  {
   "cell_type": "markdown",
   "id": "fb81204e",
   "metadata": {},
   "source": [
    "### Set Up Random Forest Classifier"
   ]
  },
  {
   "cell_type": "code",
   "execution_count": 19,
   "id": "d71168b5",
   "metadata": {},
   "outputs": [],
   "source": [
    "from sklearn.ensemble import RandomForestClassifier"
   ]
  },
  {
   "cell_type": "code",
   "execution_count": 44,
   "id": "ba403937",
   "metadata": {},
   "outputs": [],
   "source": [
    "rf_model = RandomForestClassifier()"
   ]
  },
  {
   "cell_type": "markdown",
   "id": "a6b62d98",
   "metadata": {},
   "source": [
    "### Perform Hyperparameter Tuning on Cross Validation Folds"
   ]
  },
  {
   "cell_type": "code",
   "execution_count": 118,
   "id": "57c571dc",
   "metadata": {},
   "outputs": [],
   "source": [
    "from sklearn.model_selection import GridSearchCV\n",
    "from sklearn.model_selection import RepeatedStratifiedKFold"
   ]
  },
  {
   "cell_type": "code",
   "execution_count": 127,
   "id": "f6f02f00",
   "metadata": {},
   "outputs": [],
   "source": [
    "# Dictionary of the parameter grid to explore\n",
    "forest_params = [{'max_features': list(np.linspace(start = 1, stop = 14, num = 5).astype(int)),\n",
    "                 'n_estimators': list(np.linspace(start = 400, stop = 900, num = 5).astype(int))}]"
   ]
  },
  {
   "cell_type": "code",
   "execution_count": 129,
   "id": "78f2779f",
   "metadata": {},
   "outputs": [],
   "source": [
    "# create cross validated structure\n",
    "cv_structure = RepeatedStratifiedKFold(n_splits = 5, n_repeats = 1, random_state=30)\n",
    "\n",
    "# Set up grid search using accuracy are the performance metric\n",
    "rf_cv = GridSearchCV(estimator = rf_model,\n",
    "                     param_grid = forest_params,\n",
    "                     scoring = 'roc_auc_ovr',\n",
    "                     n_jobs = -1,\n",
    "                     cv = cv_structure,\n",
    "                     verbose = 2)"
   ]
  },
  {
   "cell_type": "markdown",
   "id": "38abf6e3",
   "metadata": {},
   "source": [
    "### Train the model using Cross Validation"
   ]
  },
  {
   "cell_type": "code",
   "execution_count": 130,
   "id": "08ea2df8",
   "metadata": {},
   "outputs": [
    {
     "name": "stdout",
     "output_type": "stream",
     "text": [
      "Fitting 5 folds for each of 25 candidates, totalling 125 fits\n"
     ]
    },
    {
     "data": {
      "text/plain": [
       "GridSearchCV(cv=RepeatedStratifiedKFold(n_repeats=1, n_splits=5, random_state=30),\n",
       "             estimator=RandomForestClassifier(), n_jobs=-1,\n",
       "             param_grid=[{'max_features': [1, 4, 7, 10, 14],\n",
       "                          'n_estimators': [400, 525, 650, 775, 900]}],\n",
       "             scoring='roc_auc_ovr', verbose=2)"
      ]
     },
     "execution_count": 130,
     "metadata": {},
     "output_type": "execute_result"
    }
   ],
   "source": [
    "rf_cv.fit(X = X_train, y = y_train)"
   ]
  },
  {
   "cell_type": "markdown",
   "id": "564df498",
   "metadata": {},
   "source": [
    "### Best Parameters"
   ]
  },
  {
   "cell_type": "code",
   "execution_count": 131,
   "id": "5ab2eaf5",
   "metadata": {},
   "outputs": [
    {
     "data": {
      "text/plain": [
       "{'max_features': 4, 'n_estimators': 400}"
      ]
     },
     "execution_count": 131,
     "metadata": {},
     "output_type": "execute_result"
    }
   ],
   "source": [
    "# parameters\n",
    "rf_cv.best_params_"
   ]
  },
  {
   "cell_type": "code",
   "execution_count": 70,
   "id": "5cbf885d",
   "metadata": {},
   "outputs": [
    {
     "data": {
      "text/plain": [
       "RandomForestClassifier(max_features=1, n_estimators=775)"
      ]
     },
     "execution_count": 70,
     "metadata": {},
     "output_type": "execute_result"
    }
   ],
   "source": [
    "# best model\n",
    "rf_cv.best_estimator_ "
   ]
  },
  {
   "cell_type": "code",
   "execution_count": 73,
   "id": "79c94a7d",
   "metadata": {},
   "outputs": [
    {
     "data": {
      "text/plain": [
       "{'mean_fit_time': array([1.25161991, 1.71448336, 2.13897796, 2.70535765, 3.13892217,\n",
       "        1.45097852, 2.02400742, 2.5015522 , 2.89790559, 3.46605802,\n",
       "        1.6546896 , 2.16405721, 3.08119531, 3.30563946, 3.94696851,\n",
       "        1.91601543, 2.45581765, 2.985636  , 3.65684953, 4.05980124,\n",
       "        1.89962025, 2.38255219, 2.97373867, 3.73318658, 3.87067361]),\n",
       " 'std_fit_time': array([0.03993041, 0.0141844 , 0.04029751, 0.10479637, 0.07931151,\n",
       "        0.01714101, 0.0154652 , 0.01310822, 0.02054643, 0.09942141,\n",
       "        0.06275966, 0.04414718, 0.12390857, 0.13808158, 0.08332673,\n",
       "        0.01944587, 0.02892459, 0.14096759, 0.12165954, 0.03935777,\n",
       "        0.03974639, 0.01132745, 0.07145619, 0.08734514, 0.47388696]),\n",
       " 'mean_score_time': array([0.13232775, 0.1411108 , 0.16477385, 0.20625486, 0.25069356,\n",
       "        0.11182108, 0.14545736, 0.19099317, 0.21403461, 0.27362361,\n",
       "        0.12377653, 0.16617613, 0.22275677, 0.2271955 , 0.28757982,\n",
       "        0.13782883, 0.17333536, 0.21917329, 0.23702455, 0.27830253,\n",
       "        0.11702046, 0.1729188 , 0.19343143, 0.25564384, 0.20824885]),\n",
       " 'std_score_time': array([0.01747836, 0.00622077, 0.00624854, 0.0089398 , 0.01074776,\n",
       "        0.00513922, 0.01061441, 0.01206239, 0.00872296, 0.01152028,\n",
       "        0.01361674, 0.01984216, 0.04681683, 0.00929076, 0.03322836,\n",
       "        0.01900266, 0.02406198, 0.02128606, 0.01829249, 0.02957719,\n",
       "        0.00368053, 0.02738281, 0.00579624, 0.04325345, 0.07320357]),\n",
       " 'param_max_features': masked_array(data=[1, 1, 1, 1, 1, 4, 4, 4, 4, 4, 7, 7, 7, 7, 7, 10, 10,\n",
       "                    10, 10, 10, 14, 14, 14, 14, 14],\n",
       "              mask=[False, False, False, False, False, False, False, False,\n",
       "                    False, False, False, False, False, False, False, False,\n",
       "                    False, False, False, False, False, False, False, False,\n",
       "                    False],\n",
       "        fill_value='?',\n",
       "             dtype=object),\n",
       " 'param_n_estimators': masked_array(data=[400, 525, 650, 775, 900, 400, 525, 650, 775, 900, 400,\n",
       "                    525, 650, 775, 900, 400, 525, 650, 775, 900, 400, 525,\n",
       "                    650, 775, 900],\n",
       "              mask=[False, False, False, False, False, False, False, False,\n",
       "                    False, False, False, False, False, False, False, False,\n",
       "                    False, False, False, False, False, False, False, False,\n",
       "                    False],\n",
       "        fill_value='?',\n",
       "             dtype=object),\n",
       " 'params': [{'max_features': 1, 'n_estimators': 400},\n",
       "  {'max_features': 1, 'n_estimators': 525},\n",
       "  {'max_features': 1, 'n_estimators': 650},\n",
       "  {'max_features': 1, 'n_estimators': 775},\n",
       "  {'max_features': 1, 'n_estimators': 900},\n",
       "  {'max_features': 4, 'n_estimators': 400},\n",
       "  {'max_features': 4, 'n_estimators': 525},\n",
       "  {'max_features': 4, 'n_estimators': 650},\n",
       "  {'max_features': 4, 'n_estimators': 775},\n",
       "  {'max_features': 4, 'n_estimators': 900},\n",
       "  {'max_features': 7, 'n_estimators': 400},\n",
       "  {'max_features': 7, 'n_estimators': 525},\n",
       "  {'max_features': 7, 'n_estimators': 650},\n",
       "  {'max_features': 7, 'n_estimators': 775},\n",
       "  {'max_features': 7, 'n_estimators': 900},\n",
       "  {'max_features': 10, 'n_estimators': 400},\n",
       "  {'max_features': 10, 'n_estimators': 525},\n",
       "  {'max_features': 10, 'n_estimators': 650},\n",
       "  {'max_features': 10, 'n_estimators': 775},\n",
       "  {'max_features': 10, 'n_estimators': 900},\n",
       "  {'max_features': 14, 'n_estimators': 400},\n",
       "  {'max_features': 14, 'n_estimators': 525},\n",
       "  {'max_features': 14, 'n_estimators': 650},\n",
       "  {'max_features': 14, 'n_estimators': 775},\n",
       "  {'max_features': 14, 'n_estimators': 900}],\n",
       " 'split0_test_score': array([0.73889055, 0.74593413, 0.75300685, 0.75684251, 0.74410232,\n",
       "        0.74117098, 0.7271392 , 0.73431228, 0.73182579, 0.73095088,\n",
       "        0.74074652, 0.73045126, 0.72669155, 0.7267745 , 0.72686043,\n",
       "        0.72165225, 0.71978867, 0.72387414, 0.72501925, 0.71558613,\n",
       "        0.70704052, 0.72166625, 0.71804383, 0.71293059, 0.71934443]),\n",
       " 'split1_test_score': array([0.82325542, 0.83543062, 0.83447976, 0.85453128, 0.83774465,\n",
       "        0.84497566, 0.85635207, 0.85211015, 0.84754107, 0.85097703,\n",
       "        0.83022664, 0.84150173, 0.84360051, 0.83551515, 0.84493129,\n",
       "        0.8265183 , 0.82777953, 0.82610101, 0.83311021, 0.83016968,\n",
       "        0.83307783, 0.83399553, 0.83651239, 0.82917524, 0.82772475]),\n",
       " 'split2_test_score': array([0.8250075 , 0.80617642, 0.8199332 , 0.81912368, 0.81372827,\n",
       "        0.81085811, 0.80407766, 0.81250795, 0.81780194, 0.82083114,\n",
       "        0.81106653, 0.81104272, 0.81207862, 0.81259962, 0.80617645,\n",
       "        0.79872055, 0.80861592, 0.79848248, 0.80351483, 0.79787738,\n",
       "        0.79188379, 0.7846429 , 0.79616302, 0.78824796, 0.79433449]),\n",
       " 'split3_test_score': array([0.79255892, 0.78836136, 0.79659589, 0.80446302, 0.79208725,\n",
       "        0.81271751, 0.80990946, 0.81497261, 0.80262939, 0.81163651,\n",
       "        0.80386387, 0.81046135, 0.80908044, 0.80649333, 0.81093846,\n",
       "        0.80024648, 0.80405541, 0.79806453, 0.80542493, 0.80744622,\n",
       "        0.79476375, 0.80027598, 0.79743959, 0.79695816, 0.79872485]),\n",
       " 'split4_test_score': array([0.77975429, 0.7696283 , 0.77150037, 0.77307989, 0.769434  ,\n",
       "        0.77730434, 0.78740739, 0.77806048, 0.78298616, 0.78242527,\n",
       "        0.781135  , 0.78728071, 0.78719174, 0.78162997, 0.78684574,\n",
       "        0.77206938, 0.77791689, 0.78745741, 0.78190759, 0.78743427,\n",
       "        0.78106711, 0.78056139, 0.77623262, 0.77929629, 0.78426525]),\n",
       " 'mean_test_score': array([0.79189334, 0.78910617, 0.79510321, 0.80160808, 0.7914193 ,\n",
       "        0.79740532, 0.79697716, 0.79839269, 0.79655687, 0.79936417,\n",
       "        0.79340771, 0.79614755, 0.79572857, 0.79260251, 0.79515047,\n",
       "        0.78384139, 0.78763128, 0.78679592, 0.78979536, 0.78770273,\n",
       "        0.7815666 , 0.78422841, 0.78487829, 0.78132165, 0.78487876]),\n",
       " 'std_test_score': array([0.03174027, 0.03059776, 0.02999489, 0.03444888, 0.03276103,\n",
       "        0.03534043, 0.04174197, 0.03969735, 0.03863132, 0.04060205,\n",
       "        0.03066144, 0.0370901 , 0.03892636, 0.03711619, 0.0389396 ,\n",
       "        0.03554688, 0.03746726, 0.03396479, 0.03624043, 0.03872376,\n",
       "        0.04120292, 0.03650187, 0.03871125, 0.0381153 , 0.03581069]),\n",
       " 'rank_test_score': array([13, 16, 10,  1, 14,  4,  5,  3,  6,  2, 11,  7,  8, 12,  9, 23, 18,\n",
       "        19, 15, 17, 24, 22, 21, 25, 20], dtype=int32)}"
      ]
     },
     "execution_count": 73,
     "metadata": {},
     "output_type": "execute_result"
    }
   ],
   "source": [
    "# Cross Validated Scoring\n",
    "rf_cv.cv_results_"
   ]
  },
  {
   "cell_type": "code",
   "execution_count": 134,
   "id": "ed4fe673",
   "metadata": {},
   "outputs": [],
   "source": [
    "# store the best parameters\n",
    "mtry = rf_cv.best_params_['n_estimators']\n",
    "n_features = rf_cv.best_params_['max_features']"
   ]
  },
  {
   "cell_type": "code",
   "execution_count": 135,
   "id": "4a86a015",
   "metadata": {},
   "outputs": [
    {
     "data": {
      "text/plain": [
       "(400, 4)"
      ]
     },
     "execution_count": 135,
     "metadata": {},
     "output_type": "execute_result"
    }
   ],
   "source": [
    "mtry, n_features"
   ]
  },
  {
   "cell_type": "markdown",
   "id": "906ad152",
   "metadata": {},
   "source": [
    "### Refit the model using the optimal hyperparameters"
   ]
  },
  {
   "cell_type": "code",
   "execution_count": 136,
   "id": "c0ff70bb",
   "metadata": {},
   "outputs": [
    {
     "data": {
      "text/plain": [
       "RandomForestClassifier(max_features=4, n_estimators=400)"
      ]
     },
     "execution_count": 136,
     "metadata": {},
     "output_type": "execute_result"
    }
   ],
   "source": [
    "rfc_optimized = RandomForestClassifier(n_estimators = mtry, max_features = n_features)\n",
    "rfc_optimized.fit(X = X_train, y = y_train)"
   ]
  },
  {
   "cell_type": "code",
   "execution_count": 137,
   "id": "ea1cbf1f",
   "metadata": {},
   "outputs": [
    {
     "data": {
      "text/plain": [
       "RandomForestClassifier(max_features=4, n_estimators=400)"
      ]
     },
     "execution_count": 137,
     "metadata": {},
     "output_type": "execute_result"
    }
   ],
   "source": [
    "rfc_optimized"
   ]
  },
  {
   "cell_type": "markdown",
   "id": "adc6f297",
   "metadata": {},
   "source": [
    "### Variable of Importance Plot"
   ]
  },
  {
   "cell_type": "code",
   "execution_count": 138,
   "id": "78301457",
   "metadata": {},
   "outputs": [],
   "source": [
    "import matplotlib.pyplot as plt"
   ]
  },
  {
   "cell_type": "code",
   "execution_count": 139,
   "id": "965c6b43",
   "metadata": {},
   "outputs": [
    {
     "data": {
      "text/plain": [
       "array([0.07867774, 0.10662659, 0.08670048, 0.10026291, 0.12209415,\n",
       "       0.11339758, 0.0710604 , 0.06418203, 0.06915088, 0.06582701,\n",
       "       0.0437844 , 0.05641629, 0.01464856, 0.007171  ])"
      ]
     },
     "execution_count": 139,
     "metadata": {},
     "output_type": "execute_result"
    }
   ],
   "source": [
    "importances = rfc_optimized.feature_importances_\n",
    "importances"
   ]
  },
  {
   "cell_type": "code",
   "execution_count": 140,
   "id": "df52b713",
   "metadata": {},
   "outputs": [
    {
     "data": {
      "text/plain": [
       "array([ 4,  5,  1,  3,  2,  0,  6,  8,  9,  7, 11, 10, 12, 13])"
      ]
     },
     "execution_count": 140,
     "metadata": {},
     "output_type": "execute_result"
    }
   ],
   "source": [
    "## sort the importances in descending order\n",
    "indices = np.argsort(importances)[::-1]\n",
    "indices"
   ]
  },
  {
   "cell_type": "code",
   "execution_count": 141,
   "id": "9d4d7aee",
   "metadata": {},
   "outputs": [
    {
     "data": {
      "text/plain": [
       "['HST',\n",
       " 'AST',\n",
       " 'HTAG',\n",
       " 'AS',\n",
       " 'HS',\n",
       " 'HTHG',\n",
       " 'HF',\n",
       " 'HC',\n",
       " 'AC',\n",
       " 'AF',\n",
       " 'AY',\n",
       " 'HY',\n",
       " 'HR',\n",
       " 'AR']"
      ]
     },
     "execution_count": 141,
     "metadata": {},
     "output_type": "execute_result"
    }
   ],
   "source": [
    "## Rearrange feature names so that they match the sorted feature importances\n",
    "names = [X_test.columns[i] for i in indices]\n",
    "names"
   ]
  },
  {
   "cell_type": "code",
   "execution_count": 148,
   "id": "96c05053",
   "metadata": {},
   "outputs": [
    {
     "data": {
      "text/plain": [
       "([<matplotlib.axis.XTick at 0x7f9a5af9b610>,\n",
       "  <matplotlib.axis.XTick at 0x7f9a5af9b5e0>,\n",
       "  <matplotlib.axis.XTick at 0x7f9a5af43d90>,\n",
       "  <matplotlib.axis.XTick at 0x7f9a5afc49d0>,\n",
       "  <matplotlib.axis.XTick at 0x7f9a5afca160>,\n",
       "  <matplotlib.axis.XTick at 0x7f9a5afca8b0>,\n",
       "  <matplotlib.axis.XTick at 0x7f9a5afcd040>,\n",
       "  <matplotlib.axis.XTick at 0x7f9a5afcac40>,\n",
       "  <matplotlib.axis.XTick at 0x7f9a5afc4dc0>,\n",
       "  <matplotlib.axis.XTick at 0x7f9a5afcd9d0>,\n",
       "  <matplotlib.axis.XTick at 0x7f9a5afd2160>,\n",
       "  <matplotlib.axis.XTick at 0x7f9a5afd28b0>,\n",
       "  <matplotlib.axis.XTick at 0x7f9a5afd4040>,\n",
       "  <matplotlib.axis.XTick at 0x7f9a5afd4790>],\n",
       " [Text(0, 0, 'HST'),\n",
       "  Text(1, 0, 'AST'),\n",
       "  Text(2, 0, 'HTAG'),\n",
       "  Text(3, 0, 'AS'),\n",
       "  Text(4, 0, 'HS'),\n",
       "  Text(5, 0, 'HTHG'),\n",
       "  Text(6, 0, 'HF'),\n",
       "  Text(7, 0, 'HC'),\n",
       "  Text(8, 0, 'AC'),\n",
       "  Text(9, 0, 'AF'),\n",
       "  Text(10, 0, 'AY'),\n",
       "  Text(11, 0, 'HY'),\n",
       "  Text(12, 0, 'HR'),\n",
       "  Text(13, 0, 'AR')])"
      ]
     },
     "execution_count": 148,
     "metadata": {},
     "output_type": "execute_result"
    },
    {
     "data": {
      "image/png": "[encoded data removed]",
      "text/plain": [
       "<Figure size 640x480 with 1 Axes>"
      ]
     },
     "metadata": {},
     "output_type": "display_data"
    }
   ],
   "source": [
    "# plot title\n",
    "plt.title(\"Feature Importance\")\n",
    "\n",
    "# barplot\n",
    "plt.bar(range(X_test.shape[1]), importances[indices])\n",
    "\n",
    "# feature names for x-axis\n",
    "plt.xticks(range(X_test.shape[1]), names, rotation = 90)"
   ]
  },
  {
   "cell_type": "markdown",
   "id": "2e8dcd3f",
   "metadata": {},
   "source": [
    "### Get Predictions on Test Set"
   ]
  },
  {
   "cell_type": "code",
   "execution_count": 150,
   "id": "69e0c310",
   "metadata": {},
   "outputs": [],
   "source": [
    "from sklearn.metrics import classification_report, confusion_matrix"
   ]
  },
  {
   "cell_type": "code",
   "execution_count": 151,
   "id": "ce3aad25",
   "metadata": {},
   "outputs": [],
   "source": [
    "rfc_test_pred = rfc_optimized.predict(X_test)"
   ]
  },
  {
   "cell_type": "code",
   "execution_count": 152,
   "id": "9aa1d350",
   "metadata": {},
   "outputs": [
    {
     "data": {
      "text/plain": [
       "array([[26,  5,  1],\n",
       "       [13,  3,  6],\n",
       "       [ 5,  3, 33]])"
      ]
     },
     "execution_count": 152,
     "metadata": {},
     "output_type": "execute_result"
    }
   ],
   "source": [
    "confusion_matrix(y_test, rfc_test_pred)"
   ]
  },
  {
   "cell_type": "code",
   "execution_count": 153,
   "id": "18378834",
   "metadata": {},
   "outputs": [
    {
     "name": "stdout",
     "output_type": "stream",
     "text": [
      "              precision    recall  f1-score   support\n",
      "\n",
      "           A       0.59      0.81      0.68        32\n",
      "           D       0.27      0.14      0.18        22\n",
      "           H       0.82      0.80      0.81        41\n",
      "\n",
      "    accuracy                           0.65        95\n",
      "   macro avg       0.56      0.58      0.56        95\n",
      "weighted avg       0.62      0.65      0.62        95\n",
      "\n"
     ]
    }
   ],
   "source": [
    "print(classification_report(y_test, rfc_test_pred))"
   ]
  },
  {
   "cell_type": "markdown",
   "id": "b1ed511a",
   "metadata": {},
   "source": [
    "### Save the model"
   ]
  },
  {
   "cell_type": "code",
   "execution_count": 155,
   "id": "13dbe8b5",
   "metadata": {},
   "outputs": [],
   "source": [
    "from pickle import dump"
   ]
  },
  {
   "cell_type": "code",
   "execution_count": 156,
   "id": "e88c55f1",
   "metadata": {},
   "outputs": [],
   "source": [
    "dump(rfc_optimized, open('rfc_optimized.pkl', 'wb'))"
   ]
  },
  {
   "cell_type": "markdown",
   "id": "f9ce2c21",
   "metadata": {},
   "source": [
    "### Load the model"
   ]
  },
  {
   "cell_type": "code",
   "execution_count": 97,
   "id": "9b63f686",
   "metadata": {},
   "outputs": [],
   "source": [
    "from pickle import load"
   ]
  },
  {
   "cell_type": "code",
   "execution_count": 98,
   "id": "7bf140d4",
   "metadata": {},
   "outputs": [],
   "source": [
    "model = load(open('rfc_optimized.pkl', 'rb'))"
   ]
  },
  {
   "cell_type": "code",
   "execution_count": 157,
   "id": "83a7ae41",
   "metadata": {},
   "outputs": [
    {
     "data": {
      "text/plain": [
       "RandomForestClassifier(max_features=1, n_estimators=775)"
      ]
     },
     "execution_count": 157,
     "metadata": {},
     "output_type": "execute_result"
    }
   ],
   "source": [
    "model"
   ]
  },
  {
   "cell_type": "code",
   "execution_count": 100,
   "id": "8ac34b62",
   "metadata": {},
   "outputs": [
    {
     "data": {
      "text/html": [
       "<div>\n",
       "<style scoped>\n",
       "    .dataframe tbody tr th:only-of-type {\n",
       "        vertical-align: middle;\n",
       "    }\n",
       "\n",
       "    .dataframe tbody tr th {\n",
       "        vertical-align: top;\n",
       "    }\n",
       "\n",
       "    .dataframe thead th {\n",
       "        text-align: right;\n",
       "    }\n",
       "</style>\n",
       "<table border=\"1\" class=\"dataframe\">\n",
       "  <thead>\n",
       "    <tr style=\"text-align: right;\">\n",
       "      <th></th>\n",
       "      <th>FTR</th>\n",
       "      <th>HTHG</th>\n",
       "      <th>HTAG</th>\n",
       "      <th>HS</th>\n",
       "      <th>AS</th>\n",
       "      <th>HST</th>\n",
       "      <th>AST</th>\n",
       "      <th>HF</th>\n",
       "      <th>AF</th>\n",
       "      <th>HC</th>\n",
       "      <th>AC</th>\n",
       "      <th>HY</th>\n",
       "      <th>AY</th>\n",
       "      <th>HR</th>\n",
       "      <th>AR</th>\n",
       "    </tr>\n",
       "  </thead>\n",
       "  <tbody>\n",
       "    <tr>\n",
       "      <th>180</th>\n",
       "      <td>D</td>\n",
       "      <td>1</td>\n",
       "      <td>0</td>\n",
       "      <td>11</td>\n",
       "      <td>18</td>\n",
       "      <td>5</td>\n",
       "      <td>6</td>\n",
       "      <td>14</td>\n",
       "      <td>7</td>\n",
       "      <td>10</td>\n",
       "      <td>8</td>\n",
       "      <td>4</td>\n",
       "      <td>1</td>\n",
       "      <td>0</td>\n",
       "      <td>0</td>\n",
       "    </tr>\n",
       "    <tr>\n",
       "      <th>242</th>\n",
       "      <td>A</td>\n",
       "      <td>0</td>\n",
       "      <td>2</td>\n",
       "      <td>16</td>\n",
       "      <td>15</td>\n",
       "      <td>6</td>\n",
       "      <td>9</td>\n",
       "      <td>13</td>\n",
       "      <td>19</td>\n",
       "      <td>3</td>\n",
       "      <td>3</td>\n",
       "      <td>6</td>\n",
       "      <td>3</td>\n",
       "      <td>0</td>\n",
       "      <td>0</td>\n",
       "    </tr>\n",
       "  </tbody>\n",
       "</table>\n",
       "</div>"
      ],
      "text/plain": [
       "    FTR  HTHG  HTAG  HS  AS  HST  AST  HF  AF  HC  AC  HY  AY  HR  AR\n",
       "180   D     1     0  11  18    5    6  14   7  10   8   4   1   0   0\n",
       "242   A     0     2  16  15    6    9  13  19   3   3   6   3   0   0"
      ]
     },
     "execution_count": 100,
     "metadata": {},
     "output_type": "execute_result"
    }
   ],
   "source": [
    "# get a new observations\n",
    "new_dat = dat_model.loc[[180, 242]]\n",
    "new_dat"
   ]
  },
  {
   "cell_type": "code",
   "execution_count": 102,
   "id": "a8d6a27e",
   "metadata": {},
   "outputs": [
    {
     "data": {
      "text/html": [
       "<div>\n",
       "<style scoped>\n",
       "    .dataframe tbody tr th:only-of-type {\n",
       "        vertical-align: middle;\n",
       "    }\n",
       "\n",
       "    .dataframe tbody tr th {\n",
       "        vertical-align: top;\n",
       "    }\n",
       "\n",
       "    .dataframe thead th {\n",
       "        text-align: right;\n",
       "    }\n",
       "</style>\n",
       "<table border=\"1\" class=\"dataframe\">\n",
       "  <thead>\n",
       "    <tr style=\"text-align: right;\">\n",
       "      <th></th>\n",
       "      <th>HTHG</th>\n",
       "      <th>HTAG</th>\n",
       "      <th>HS</th>\n",
       "      <th>AS</th>\n",
       "      <th>HST</th>\n",
       "      <th>AST</th>\n",
       "      <th>HF</th>\n",
       "      <th>AF</th>\n",
       "      <th>HC</th>\n",
       "      <th>AC</th>\n",
       "      <th>HY</th>\n",
       "      <th>AY</th>\n",
       "      <th>HR</th>\n",
       "      <th>AR</th>\n",
       "    </tr>\n",
       "  </thead>\n",
       "  <tbody>\n",
       "    <tr>\n",
       "      <th>180</th>\n",
       "      <td>1</td>\n",
       "      <td>0</td>\n",
       "      <td>11</td>\n",
       "      <td>18</td>\n",
       "      <td>5</td>\n",
       "      <td>6</td>\n",
       "      <td>14</td>\n",
       "      <td>7</td>\n",
       "      <td>10</td>\n",
       "      <td>8</td>\n",
       "      <td>4</td>\n",
       "      <td>1</td>\n",
       "      <td>0</td>\n",
       "      <td>0</td>\n",
       "    </tr>\n",
       "    <tr>\n",
       "      <th>242</th>\n",
       "      <td>0</td>\n",
       "      <td>2</td>\n",
       "      <td>16</td>\n",
       "      <td>15</td>\n",
       "      <td>6</td>\n",
       "      <td>9</td>\n",
       "      <td>13</td>\n",
       "      <td>19</td>\n",
       "      <td>3</td>\n",
       "      <td>3</td>\n",
       "      <td>6</td>\n",
       "      <td>3</td>\n",
       "      <td>0</td>\n",
       "      <td>0</td>\n",
       "    </tr>\n",
       "  </tbody>\n",
       "</table>\n",
       "</div>"
      ],
      "text/plain": [
       "     HTHG  HTAG  HS  AS  HST  AST  HF  AF  HC  AC  HY  AY  HR  AR\n",
       "180     1     0  11  18    5    6  14   7  10   8   4   1   0   0\n",
       "242     0     2  16  15    6    9  13  19   3   3   6   3   0   0"
      ]
     },
     "execution_count": 102,
     "metadata": {},
     "output_type": "execute_result"
    }
   ],
   "source": [
    "## Get the features by themselves to make predictions\n",
    "new_feats = new_dat.drop('FTR', axis = 1)\n",
    "new_feats"
   ]
  },
  {
   "cell_type": "code",
   "execution_count": 103,
   "id": "154ea63e",
   "metadata": {},
   "outputs": [
    {
     "data": {
      "text/html": [
       "<div>\n",
       "<style scoped>\n",
       "    .dataframe tbody tr th:only-of-type {\n",
       "        vertical-align: middle;\n",
       "    }\n",
       "\n",
       "    .dataframe tbody tr th {\n",
       "        vertical-align: top;\n",
       "    }\n",
       "\n",
       "    .dataframe thead th {\n",
       "        text-align: right;\n",
       "    }\n",
       "</style>\n",
       "<table border=\"1\" class=\"dataframe\">\n",
       "  <thead>\n",
       "    <tr style=\"text-align: right;\">\n",
       "      <th></th>\n",
       "      <th>FTR</th>\n",
       "      <th>HTHG</th>\n",
       "      <th>HTAG</th>\n",
       "      <th>HS</th>\n",
       "      <th>AS</th>\n",
       "      <th>HST</th>\n",
       "      <th>AST</th>\n",
       "      <th>HF</th>\n",
       "      <th>AF</th>\n",
       "      <th>HC</th>\n",
       "      <th>AC</th>\n",
       "      <th>HY</th>\n",
       "      <th>AY</th>\n",
       "      <th>HR</th>\n",
       "      <th>AR</th>\n",
       "      <th>pred_ftr</th>\n",
       "    </tr>\n",
       "  </thead>\n",
       "  <tbody>\n",
       "    <tr>\n",
       "      <th>180</th>\n",
       "      <td>D</td>\n",
       "      <td>1</td>\n",
       "      <td>0</td>\n",
       "      <td>11</td>\n",
       "      <td>18</td>\n",
       "      <td>5</td>\n",
       "      <td>6</td>\n",
       "      <td>14</td>\n",
       "      <td>7</td>\n",
       "      <td>10</td>\n",
       "      <td>8</td>\n",
       "      <td>4</td>\n",
       "      <td>1</td>\n",
       "      <td>0</td>\n",
       "      <td>0</td>\n",
       "      <td>D</td>\n",
       "    </tr>\n",
       "    <tr>\n",
       "      <th>242</th>\n",
       "      <td>A</td>\n",
       "      <td>0</td>\n",
       "      <td>2</td>\n",
       "      <td>16</td>\n",
       "      <td>15</td>\n",
       "      <td>6</td>\n",
       "      <td>9</td>\n",
       "      <td>13</td>\n",
       "      <td>19</td>\n",
       "      <td>3</td>\n",
       "      <td>3</td>\n",
       "      <td>6</td>\n",
       "      <td>3</td>\n",
       "      <td>0</td>\n",
       "      <td>0</td>\n",
       "      <td>A</td>\n",
       "    </tr>\n",
       "  </tbody>\n",
       "</table>\n",
       "</div>"
      ],
      "text/plain": [
       "    FTR  HTHG  HTAG  HS  AS  HST  AST  HF  AF  HC  AC  HY  AY  HR  AR pred_ftr\n",
       "180   D     1     0  11  18    5    6  14   7  10   8   4   1   0   0        D\n",
       "242   A     0     2  16  15    6    9  13  19   3   3   6   3   0   0        A"
      ]
     },
     "execution_count": 103,
     "metadata": {},
     "output_type": "execute_result"
    }
   ],
   "source": [
    "## Add predictions to the new data\n",
    "new_dat['pred_ftr'] = model.predict(new_feats)\n",
    "new_dat"
   ]
  },
  {
   "cell_type": "code",
   "execution_count": null,
   "id": "41a2034b",
   "metadata": {},
   "outputs": [],
   "source": []
  }
 ],
 "metadata": {
  "kernelspec": {
   "display_name": "Python 3 (ipykernel)",
   "language": "python",
   "name": "python3"
  },
  "language_info": {
   "codemirror_mode": {
    "name": "ipython",
    "version": 3
   },
   "file_extension": ".py",
   "mimetype": "text/x-python",
   "name": "python",
   "nbconvert_exporter": "python",
   "pygments_lexer": "ipython3",
   "version": "3.9.13"
  }
 },
 "nbformat": 4,
 "nbformat_minor": 5
}
